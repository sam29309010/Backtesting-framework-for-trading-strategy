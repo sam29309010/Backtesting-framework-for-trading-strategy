{
 "cells": [
  {
   "cell_type": "code",
   "execution_count": 2,
   "metadata": {},
   "outputs": [],
   "source": [
    "import os\n",
    "import numpy as np\n",
    "import pandas as pd"
   ]
  },
  {
   "cell_type": "code",
   "execution_count": 3,
   "metadata": {},
   "outputs": [],
   "source": [
    "np.random.seed(1)\n",
    "\n",
    "time_number = 100\n",
    "stock_number = 500\n",
    "\n",
    "time_list = [f'time_{i}' for i in range(1,time_number+1)]\n",
    "stock_list = [f'stock_{i}' for i in range(1,stock_number+1)]\n",
    "\n",
    "factor_value = np.random.rand(time_number,stock_number)\n",
    "factor_df = pd.DataFrame(factor_value,index=time_list,columns=stock_list)\n",
    "\n",
    "fwdrt_value = (np.random.rand(time_number,stock_number)-0.5)/(1.25)\n",
    "fwdrt_df = pd.DataFrame(fwdrt_value,index=time_list,columns=stock_list)\n",
    "\n",
    "factor_df.to_csv('../csv/test_factor.csv')\n",
    "fwdrt_df.to_csv('../csv/test_fwdrt.csv')"
   ]
  },
  {
   "cell_type": "code",
   "execution_count": 34,
   "metadata": {},
   "outputs": [],
   "source": [
    "# Should be Done: Integrate w Factor Calculation & Dataloader etc."
   ]
  },
  {
   "cell_type": "code",
   "execution_count": 89,
   "metadata": {},
   "outputs": [],
   "source": [
    "class Backtester(object):\n",
    "    def __init__(self, factor_path, fwdrt_path, quantile=5):\n",
    "        self.factor = pd.read_csv(factor_path, index_col=0)\n",
    "        self.fwdrtn = pd.read_csv(fwdrt_path, index_col=0)\n",
    "        self.stock_list = self.fwdrtn.columns.to_list()\n",
    "        self.time_list = self.fwdrtn.index.to_list()\n",
    "        self.factor_rank = self.factor.rank(axis=1, pct=True)\n",
    "        self.quantile = quantile\n",
    "    \n",
    "    def getQuantileWeight(self, choose_quantile):\n",
    "        selected = (self.factor_rank <= choose_quantile/self.quantile) &  (self.factor_rank > ((choose_quantile - 1) / self.quantile))\n",
    "        weight = selected.div(selected.sum(axis=1), axis=0)\n",
    "        return weight\n",
    "    \n",
    "    def getPortfolioWeight(self):\n",
    "        pass\n",
    "    \n",
    "    def cal_net_value(self):\n",
    "        self.group_return = pd.DataFrame(index = self.time_list)\n",
    "        for choose_quantile in range(1, self.quantile + 1):\n",
    "            weight = self.getQuantileWeight(choose_quantile)\n",
    "            returns = (weight * self.fwdrtn).sum(axis = 1)\n",
    "            returns.name = \"Q_\" + str(choose_quantile)\n",
    "            self.group_return = pd.concat([self.group_return, returns], axis = 1)\n",
    "\n",
    "        returns = self.group_return[f'Q_{self.quantile}'] - self.group_return[f'Q_{1}']\n",
    "        returns.name = 'LS'\n",
    "        self.group_return = pd.concat([self.group_return, returns], axis = 1)\n",
    "        self.net_value = (1 + self.group_return).cumprod(axis=0)\n",
    "        \n",
    "    def cal_coverage(self):\n",
    "        pass"
   ]
  },
  {
   "cell_type": "code",
   "execution_count": 90,
   "metadata": {},
   "outputs": [
    {
     "name": "stdout",
     "output_type": "stream",
     "text": [
      "Wall time: 123 ms\n"
     ]
    }
   ],
   "source": [
    "%%time\n",
    "self = Backtester('../csv/test_factor.csv','../csv/test_fwdrt.csv')"
   ]
  },
  {
   "cell_type": "code",
   "execution_count": 46,
   "metadata": {},
   "outputs": [],
   "source": [
    "# assert getQuantileWeight function"
   ]
  },
  {
   "cell_type": "code",
   "execution_count": 3,
   "metadata": {},
   "outputs": [],
   "source": [
    "class Backtester(object):    \n",
    "    def getPortfolioWeight(self):\n",
    "        weight_stocks = self.getQuantileWeight(self.quantile) - self.getQuantileWeight(1.)\n",
    "        self.PortfolioWeight = weight_stocks\n",
    "        return weight_stocks\n",
    "    \n",
    "    def cal_turnover(self):\n",
    "        position = self.PortfolioWeight.mul(self.net_value.loc['LS'], axis=1)\n",
    "        diff = position - (position * (1 + self.fwdrtn)).shift(axis=1).fillna(0.)\n",
    "        diff = diff.__abs__().sum(axis=0)\n",
    "        self.turnover = (diff / self.net_value.loc['LS']) / 2\n",
    "    \n",
    "    def save_result(self):\n",
    "        pass\n",
    "    \n",
    "    def simulation(self):\n",
    "        self.getPortfolioWeight()\n",
    "        self.cal_net_value()\n",
    "        self.cal_coverage()\n",
    "        self.cal_turnover()"
   ]
  },
  {
   "cell_type": "code",
   "execution_count": 29,
   "metadata": {},
   "outputs": [
    {
     "name": "stdout",
     "output_type": "stream",
     "text": [
      "Wall time: 45.9 ms\n"
     ]
    }
   ],
   "source": [
    "%%time\n",
    "self = Backtester('../csv/test_factor.csv','../csv/test_fwdrt.csv')"
   ]
  },
  {
   "cell_type": "code",
   "execution_count": 5,
   "metadata": {},
   "outputs": [
    {
     "name": "stdout",
     "output_type": "stream",
     "text": [
      "Wall time: 39 ms\n"
     ]
    }
   ],
   "source": [
    "%%time\n",
    "self.simulation()"
   ]
  },
  {
   "cell_type": "code",
   "execution_count": 20,
   "metadata": {},
   "outputs": [
    {
     "data": {
      "text/plain": [
       "stock_1      0.720324\n",
       "stock_2      0.527058\n",
       "stock_3      0.556653\n",
       "stock_4      0.874962\n",
       "stock_5      0.803961\n",
       "               ...   \n",
       "stock_496    0.227829\n",
       "stock_497    0.751831\n",
       "stock_498    0.749126\n",
       "stock_499    0.060946\n",
       "stock_500    0.929650\n",
       "Name: time_2, Length: 500, dtype: float64"
      ]
     },
     "execution_count": 20,
     "metadata": {},
     "output_type": "execute_result"
    }
   ],
   "source": [
    "self.data.iloc[:,1]"
   ]
  },
  {
   "cell_type": "code",
   "execution_count": 10,
   "metadata": {},
   "outputs": [],
   "source": [
    "import matplotlib.pyplot as plt"
   ]
  },
  {
   "cell_type": "code",
   "execution_count": 14,
   "metadata": {},
   "outputs": [],
   "source": [
    "# Factor Distribution (Histograms)\n",
    "data = self.data.iloc[:,-1]\n",
    "fig, ax = plt.subplots()\n",
    "ax.hist(data)"
   ]
  },
  {
   "cell_type": "code",
   "execution_count": 18,
   "metadata": {},
   "outputs": [],
   "source": [
    "# Factor Coverage"
   ]
  },
  {
   "cell_type": "code",
   "execution_count": 9,
   "metadata": {},
   "outputs": [
    {
     "data": {
      "text/plain": [
       "stock_1      0.617145\n",
       "stock_2      0.949016\n",
       "stock_3      0.181613\n",
       "stock_4      0.540952\n",
       "stock_5      0.227900\n",
       "               ...   \n",
       "stock_496    0.265198\n",
       "stock_497    0.232756\n",
       "stock_498    0.791310\n",
       "stock_499    0.428681\n",
       "stock_500    0.879185\n",
       "Name: time_100, Length: 500, dtype: float64"
      ]
     },
     "execution_count": 9,
     "metadata": {},
     "output_type": "execute_result"
    }
   ],
   "source": [
    "self.data.iloc[:,-1]"
   ]
  }
 ],
 "metadata": {
  "kernelspec": {
   "display_name": "Python 3",
   "language": "python",
   "name": "python3"
  },
  "language_info": {
   "codemirror_mode": {
    "name": "ipython",
    "version": 3
   },
   "file_extension": ".py",
   "mimetype": "text/x-python",
   "name": "python",
   "nbconvert_exporter": "python",
   "pygments_lexer": "ipython3",
   "version": "3.8.10"
  }
 },
 "nbformat": 4,
 "nbformat_minor": 2
}
